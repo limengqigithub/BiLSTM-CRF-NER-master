{
 "cells": [
  {
   "cell_type": "code",
   "execution_count": 1,
   "metadata": {},
   "outputs": [],
   "source": [
    "def number_of_sentences(path):\n",
    "    num_sentence = 0 # 设置存放数量的变量\n",
    "    with open(path, 'r', encoding='utf-8') as f:\n",
    "        for row in f.readlines(): # 遍历每一行数据\n",
    "            if not row.strip(): # 如果该行是空，说明是两个句子的分割点\n",
    "                num_sentence += 1  # 句子数量加1\n",
    "    return num_sentence + 1  # 最后还需加1"
   ]
  },
  {
   "cell_type": "code",
   "execution_count": 2,
   "metadata": {},
   "outputs": [
    {
     "data": {
      "text/plain": [
       "3821"
      ]
     },
     "execution_count": 2,
     "metadata": {},
     "output_type": "execute_result"
    }
   ],
   "source": [
    "train_path = 'ResumeNER/train.char.bmes'\n",
    "dev_path = 'ResumeNER/dev.char.bmes'\n",
    "test_path = 'ResumeNER/test.char.bmes'\n",
    "number_of_sentences(train_path)"
   ]
  },
  {
   "cell_type": "code",
   "execution_count": 3,
   "metadata": {},
   "outputs": [
    {
     "data": {
      "text/plain": [
       "463"
      ]
     },
     "execution_count": 3,
     "metadata": {},
     "output_type": "execute_result"
    }
   ],
   "source": [
    "number_of_sentences(dev_path)"
   ]
  },
  {
   "cell_type": "code",
   "execution_count": 4,
   "metadata": {},
   "outputs": [
    {
     "data": {
      "text/plain": [
       "477"
      ]
     },
     "execution_count": 4,
     "metadata": {},
     "output_type": "execute_result"
    }
   ],
   "source": [
    "number_of_sentences(test_path)"
   ]
  },
  {
   "cell_type": "code",
   "execution_count": 5,
   "metadata": {},
   "outputs": [],
   "source": [
    "import numpy as np\n",
    "import matplotlib.pyplot as plt\n",
    "def max_min_mean_std(path):\n",
    "    sentence_len = []  # 用来存储每个句子的长度\n",
    "    sentence = []  # 句子暂存器\n",
    "    with open(path, 'r', encoding='utf-8') as f:\n",
    "        for row in f.readlines():  # 读取每一行\n",
    "            if row.strip():\n",
    "                # 在没遇到空字符之前把字逐一放进暂存器\n",
    "                sentence.append(row.strip())\n",
    "            else:\n",
    "                # 遇到空字符，计算句子长度并保存，置句子暂存列表为空\n",
    "                sentence_len.append(len(sentence))\n",
    "                sentence = []\n",
    "    sentence_len.append(len(sentence))  # 把最后一个句子的长度也考虑进来\n",
    "    plt.hist(sentence_len, bins=50)\n",
    "    return \"最大长度：\" + str(max(sentence_len)), \"最小长度：\" + str(min(sentence_len)), \"标准差：\" + str(np.std(sentence_len))"
   ]
  },
  {
   "cell_type": "code",
   "execution_count": 6,
   "metadata": {},
   "outputs": [
    {
     "data": {
      "text/plain": [
       "('最大长度：178', '最小长度：3', '标准差：25.131433751124515')"
      ]
     },
     "execution_count": 6,
     "metadata": {},
     "output_type": "execute_result"
    },
    {
     "data": {
      "image/png": "[encoded data removed]",
      "text/plain": [
       "<Figure size 432x288 with 1 Axes>"
      ]
     },
     "metadata": {
      "needs_background": "light"
     },
     "output_type": "display_data"
    }
   ],
   "source": [
    "train_path = 'ResumeNER/train.char.bmes'\n",
    "max_min_mean_std(train_path)"
   ]
  },
  {
   "cell_type": "code",
   "execution_count": 7,
   "metadata": {},
   "outputs": [
    {
     "data": {
      "text/plain": [
       "('最大长度：178', '最小长度：4', '标准差：22.80473975969819')"
      ]
     },
     "execution_count": 7,
     "metadata": {},
     "output_type": "execute_result"
    },
    {
     "data": {
      "image/png": "[encoded data removed]",
      "text/plain": [
       "<Figure size 432x288 with 1 Axes>"
      ]
     },
     "metadata": {
      "needs_background": "light"
     },
     "output_type": "display_data"
    }
   ],
   "source": [
    "train_path = 'ResumeNER/dev.char.bmes'\n",
    "max_min_mean_std(train_path)"
   ]
  },
  {
   "cell_type": "code",
   "execution_count": 8,
   "metadata": {},
   "outputs": [
    {
     "data": {
      "text/plain": [
       "('最大长度：167', '最小长度：4', '标准差：26.039383744191905')"
      ]
     },
     "execution_count": 8,
     "metadata": {},
     "output_type": "execute_result"
    },
    {
     "data": {
      "image/png": "[encoded data removed]",
      "text/plain": [
       "<Figure size 432x288 with 1 Axes>"
      ]
     },
     "metadata": {
      "needs_background": "light"
     },
     "output_type": "display_data"
    }
   ],
   "source": [
    "train_path = 'ResumeNER/test.char.bmes'\n",
    "max_min_mean_std(train_path)"
   ]
  },
  {
   "cell_type": "code",
   "execution_count": 9,
   "metadata": {},
   "outputs": [],
   "source": [
    "def get_labels(path):\n",
    "    labels = set()  # 这里用集合来存储标签，起到去重复的作用\n",
    "    with open(path, 'r', encoding='utf-8') as f:\n",
    "        for row in f.readlines():  # 读取每一行\n",
    "            if row.strip():  # 去掉每行的换行符\n",
    "                labels.add(row.strip().split()[1])  # 把标签添加到集合中\n",
    "    return f'一共有{len(labels)}个标签。', list(labels)  # 以列表的形式返回"
   ]
  },
  {
   "cell_type": "code",
   "execution_count": 10,
   "metadata": {},
   "outputs": [
    {
     "name": "stdout",
     "output_type": "stream",
     "text": [
      "2\n",
      "('一共有28个标签。', ['M-TITLE', 'B-RACE', 'B-EDU', 'M-PRO', 'B-LOC', 'E-ORG', 'M-CONT', 'E-PRO', 'E-TITLE', 'B-NAME', 'M-LOC', 'E-LOC', 'S-NAME', 'O', 'E-NAME', 'E-EDU', 'B-PRO', 'S-ORG', 'S-RACE', 'E-CONT', 'M-ORG', 'M-EDU', 'B-TITLE', 'E-RACE', 'B-ORG', 'M-NAME', 'B-CONT', 'M-RACE'])\n"
     ]
    }
   ],
   "source": [
    "train_path = 'ResumeNER/train.char.bmes'\n",
    "print(len(get_labels(train_path)))\n",
    "print(get_labels(train_path))"
   ]
  },
  {
   "cell_type": "code",
   "execution_count": 29,
   "metadata": {},
   "outputs": [],
   "source": [
    "def get_labels_num(path):\n",
    "    label_to_num = {}\n",
    "    f = open(path, 'r', encoding='utf-8')\n",
    "    for row in f.readlines():  # 读取每一行\n",
    "        if not row.strip(): continue  # 过滤空行\n",
    "        label = row.strip().split()[1]  # 取出带有位置标识符的实体，\n",
    "        if label.startswith('B') or label.startswith('S'):\n",
    "            label = label.strip().split('-')[1]\n",
    "            if label not in label_to_num:\n",
    "                label_to_num[label] = 1\n",
    "            else:\n",
    "                label_to_num[label] += 1\n",
    "    f.close()\n",
    "    return label_to_num"
   ]
  },
  {
   "cell_type": "code",
   "execution_count": 32,
   "metadata": {},
   "outputs": [],
   "source": [
    "from matplotlib.font_manager import FontProperties\n",
    "import matplotlib.pyplot as plt\n",
    "def show_column_chart(data):\n",
    "    waters = [d[0] for d in data.items()]\n",
    "    buy_number = [d[1] for d in data.items()]\n",
    "    plt.bar(waters, buy_number)\n",
    "    # 在mac运行 该代码需要指定字体路径\n",
    "    fp = FontProperties(fname='/System/Library/Fonts/PingFang.ttc')\n",
    "    plt.title('实体数量统计直方图', fontproperties=fp)\n",
    "    plt.show()"
   ]
  },
  {
   "cell_type": "code",
   "execution_count": 33,
   "metadata": {},
   "outputs": [
    {
     "name": "stdout",
     "output_type": "stream",
     "text": [
      "{'NAME': 952, 'CONT': 260, 'RACE': 115, 'TITLE': 6308, 'EDU': 858, 'ORG': 4611, 'PRO': 287, 'LOC': 47}\n"
     ]
    },
    {
     "name": "stderr",
     "output_type": "stream",
     "text": [
      "/Users/lmq/anaconda3/lib/python3.7/site-packages/matplotlib/font_manager.py:1331: UserWarning: findfont: Font family ['sans-serif'] not found. Falling back to DejaVu Sans\n",
      "  (prop.get_family(), self.defaultFamily[fontext]))\n"
     ]
    },
    {
     "data": {
      "image/png": "[encoded data removed]",
      "text/plain": [
       "<Figure size 432x288 with 1 Axes>"
      ]
     },
     "metadata": {
      "needs_background": "light"
     },
     "output_type": "display_data"
    }
   ],
   "source": [
    "print(get_labels_num(train_path))\n",
    "show_column_chart(get_labels_num(train_path))"
   ]
  },
  {
   "cell_type": "code",
   "execution_count": 34,
   "metadata": {},
   "outputs": [
    {
     "name": "stdout",
     "output_type": "stream",
     "text": [
      "{'NAME': 110, 'CONT': 33, 'EDU': 106, 'TITLE': 690, 'ORG': 523, 'RACE': 15, 'PRO': 18, 'LOC': 2}\n"
     ]
    },
    {
     "name": "stderr",
     "output_type": "stream",
     "text": [
      "/Users/lmq/anaconda3/lib/python3.7/site-packages/matplotlib/font_manager.py:1331: UserWarning: findfont: Font family ['sans-serif'] not found. Falling back to DejaVu Sans\n",
      "  (prop.get_family(), self.defaultFamily[fontext]))\n"
     ]
    },
    {
     "data": {
      "image/png": "[encoded data removed]",
      "text/plain": [
       "<Figure size 432x288 with 1 Axes>"
      ]
     },
     "metadata": {
      "needs_background": "light"
     },
     "output_type": "display_data"
    }
   ],
   "source": [
    "print(get_labels_num(dev_path))\n",
    "show_column_chart(get_labels_num(dev_path))"
   ]
  },
  {
   "cell_type": "code",
   "execution_count": 35,
   "metadata": {},
   "outputs": [
    {
     "name": "stdout",
     "output_type": "stream",
     "text": [
      "{'NAME': 112, 'PRO': 33, 'EDU': 112, 'TITLE': 772, 'ORG': 553, 'CONT': 28, 'RACE': 14, 'LOC': 6}\n"
     ]
    },
    {
     "name": "stderr",
     "output_type": "stream",
     "text": [
      "/Users/lmq/anaconda3/lib/python3.7/site-packages/matplotlib/font_manager.py:1331: UserWarning: findfont: Font family ['sans-serif'] not found. Falling back to DejaVu Sans\n",
      "  (prop.get_family(), self.defaultFamily[fontext]))\n"
     ]
    },
    {
     "data": {
      "image/png": "[encoded data removed]",
      "text/plain": [
       "<Figure size 432x288 with 1 Axes>"
      ]
     },
     "metadata": {
      "needs_background": "light"
     },
     "output_type": "display_data"
    }
   ],
   "source": [
    "print(get_labels_num(test_path))\n",
    "show_column_chart(get_labels_num(test_path))"
   ]
  },
  {
   "cell_type": "code",
   "execution_count": null,
   "metadata": {},
   "outputs": [],
   "source": []
  },
  {
   "cell_type": "code",
   "execution_count": null,
   "metadata": {},
   "outputs": [],
   "source": []
  }
 ],
 "metadata": {
  "kernelspec": {
   "display_name": "Python 3",
   "language": "python",
   "name": "python3"
  },
  "language_info": {
   "codemirror_mode": {
    "name": "ipython",
    "version": 3
   },
   "file_extension": ".py",
   "mimetype": "text/x-python",
   "name": "python",
   "nbconvert_exporter": "python",
   "pygments_lexer": "ipython3",
   "version": "3.7.2"
  }
 },
 "nbformat": 4,
 "nbformat_minor": 2
}
